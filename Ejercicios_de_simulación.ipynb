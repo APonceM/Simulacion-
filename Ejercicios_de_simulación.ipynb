{
  "nbformat": 4,
  "nbformat_minor": 0,
  "metadata": {
    "colab": {
      "provenance": [],
      "authorship_tag": "ABX9TyM52QMSBG+VkfU5tmHA1U62",
      "include_colab_link": true
    },
    "kernelspec": {
      "name": "python3",
      "display_name": "Python 3"
    },
    "language_info": {
      "name": "python"
    }
  },
  "cells": [
    {
      "cell_type": "markdown",
      "metadata": {
        "id": "view-in-github",
        "colab_type": "text"
      },
      "source": [
        "<a href=\"https://colab.research.google.com/github/APonceM/Simulacion-/blob/main/Ejercicios_de_simulaci%C3%B3n.ipynb\" target=\"_parent\"><img src=\"https://colab.research.google.com/assets/colab-badge.svg\" alt=\"Open In Colab\"/></a>"
      ]
    },
    {
      "cell_type": "code",
      "execution_count": null,
      "metadata": {
        "id": "9N2v-A7pB6K1"
      },
      "outputs": [],
      "source": []
    },
    {
      "cell_type": "markdown",
      "source": [
        "# Ejercicios primer parcial\n",
        "\n",
        "Nota: en todos los ejercicios se supone que la variable aleatoria $U$ esta uniformemente distribuida en [0,1] y $u$ es un valor simulado de $U$.\n",
        "\n",
        "Nota 2: Todas las celdas de código esta pensadas para que se puedan ejecutar independientemente del notebook\n",
        "\n",
        "\n",
        "**1. Estimar por simulación $\\sqrt{3}$. ¿Cuántos ensayos tiene que realizar para asegurar que la probabilidad de tener un error mayor o igual que 0.01 se menor que 0.1?**\n",
        "\n",
        "Tomemos la función $f(x)=x^2-3$, notamos que $f(1)< 0$ y $f(2)>0$ por lo tanto $\\sqrt{3} \\in [1,2]$\n",
        "\n",
        "Ahora, si lanzamos dardos en el intervalos $[1,2]$ la razón entre la longitud del subintervalo $[1,\\sqrt{3}]$ y la longitud del intervalo intervalo $[1,2]$ debe ser proporcional a la razón de el  número $n$ de dardos que caerán en el subintervalo $[1,\\sqrt{3}]$ y el número total $N$ lanzados, esto es \n",
        "\n",
        "$\\frac{n}{N} \\approx \\frac{\\sqrt{3}-1}{2-1} ⇒ \\sqrt{3} \\approx \\frac{n}{N}+1$\n",
        "\n",
        "Para saber que dardos caen en el intervalo $[1,\\sqrt{3}]$ ocuparemos la siguiente relación\n",
        "\n",
        "$x<\\sqrt{3} ⟹ x^2<3$"
      ],
      "metadata": {
        "id": "hwg_X16jB92B"
      }
    },
    {
      "cell_type": "code",
      "source": [
        "from random import random \n",
        "from math import sqrt\n",
        "\n",
        "N=10**5\n",
        "n=0\n",
        "\n",
        "for i in range(N):\n",
        "  if (random()+1)**2<3:\n",
        "    n+=1\n",
        "\n",
        "print(\"valor real: \",sqrt(3),\"\\n valor simulado: \",n/N+1)"
      ],
      "metadata": {
        "colab": {
          "base_uri": "https://localhost:8080/"
        },
        "id": "Our7L5OoCo_e",
        "outputId": "0d74b499-462d-4e21-bcee-aa99cf24e8bd"
      },
      "execution_count": null,
      "outputs": [
        {
          "output_type": "stream",
          "name": "stdout",
          "text": [
            "valor real:  1.7320508075688772 \n",
            " valor simulado:  1.73198\n"
          ]
        }
      ]
    },
    {
      "cell_type": "markdown",
      "source": [
        "Ahora, para calcular el número $N$ de dardos que se deben lanzar para que la probabilidad de cometer un error mayor o igual a .01 sea menor que .01 debemos usar la desigualdad de chebishev como sigue\n",
        "\n",
        "$P(|\\widehat{Z}_n-\\sqrt{3}|\\geq .01)\\leq \\frac{1}{4 N (.1)^2}<.01 ⟹ N>\\frac{1}{4 N (.1)^2 (.01)}=2500$"
      ],
      "metadata": {
        "id": "qSpOVEBnL6jf"
      }
    },
    {
      "cell_type": "markdown",
      "source": [
        "**2. Estimar por simulación el volumen de una esfera de radio 1**\n",
        "\n",
        "Si lanzamos $N$ canícas en el cuadrado unitario y contamos las $n$ que caigan en el primer octante de la esfera notamos que la razón $n/N$ debe ser igual a la razon del volumén $v$ del primer octante de la esfera con el volumen total, esto es \n",
        "\n",
        "$\\frac{n}{N} ≈ \\frac{v}{1} ⟹ v ≈ \\frac{n}{N}$\n",
        "\n",
        "y así el volumen total de la esfera es $V=8v$. Para saber que canica cae en el octavo de esfera ocupamos a relaición \n",
        "\n",
        "$\\sqrt{x^2+y^2+z^2}<1 ⇔ x^2+y^2+z^2<1$"
      ],
      "metadata": {
        "id": "5XJi0Os8OUj3"
      }
    },
    {
      "cell_type": "code",
      "source": [
        "from random import random \n",
        "from math import pi \n",
        "\n",
        "N=10**6\n",
        "n=0\n",
        "\n",
        "for i in range(N):\n",
        "  if random()**2+random()**2+random()**2<1:\n",
        "    n+=1\n",
        "\n",
        "print(\"valor real: \",4/3*pi,\"\\nvalor simulado: \",8*n/N)"
      ],
      "metadata": {
        "colab": {
          "base_uri": "https://localhost:8080/"
        },
        "id": "V5ljocbJOkZU",
        "outputId": "e82ace15-f01a-4ba3-e016-fcd26475fc47"
      },
      "execution_count": null,
      "outputs": [
        {
          "output_type": "stream",
          "name": "stdout",
          "text": [
            "valor real:  4.1887902047863905 \n",
            "valor simulado:  4.186144\n"
          ]
        }
      ]
    },
    {
      "cell_type": "code",
      "source": [],
      "metadata": {
        "id": "aadUDUlsQ2po"
      },
      "execution_count": null,
      "outputs": []
    },
    {
      "cell_type": "markdown",
      "source": [
        "**3. Se define la variable aleatoria N como**\n",
        "\n",
        "**$\\pmb{N=Min\\{m:u_1+u_2+\\cdots+u_m>1\\}}$**\n",
        "\n",
        "**donde $u_1,u_2,...,$ son uniformemente dsitribuidas en $[0,1]$. Estime por simulación el valor esperado de $N$ y de un intervalo de confianza del $90\\%$ para $E(N)$**\n",
        "\n",
        "Para resolver este problema debemos simular valores aleatorios entre 0 y 1 de manera indefinida hasta que la suma de ellos sea mayor que 1 y observaremos cuantos valores fueron necesarios, repetiremos este proceso bastantes veces y calcularemos el promedio de ellos \n"
      ],
      "metadata": {
        "id": "1zuFsHlzCoq0"
      }
    },
    {
      "cell_type": "code",
      "source": [
        "from random import random\n",
        "import numpy as np\n",
        "from math import sqrt\n",
        "\n",
        "N=10**5\n",
        "m_valores=[]\n",
        "for i in range(N):\n",
        "  sum=0\n",
        "  cont=0\n",
        "  while sum<=1:\n",
        "    sum+=random()\n",
        "    cont+=1\n",
        "  m_valores.append(cont)\n",
        "\n",
        "print(\"El valor simulado es: \",np.mean(m_valores))\n"
      ],
      "metadata": {
        "colab": {
          "base_uri": "https://localhost:8080/"
        },
        "id": "rvXiswYBFbI2",
        "outputId": "19c77bc4-1070-4733-af25-178176e59c3e"
      },
      "execution_count": null,
      "outputs": [
        {
          "output_type": "stream",
          "name": "stdout",
          "text": [
            "El valor simulado es:  2.71616\n"
          ]
        }
      ]
    },
    {
      "cell_type": "markdown",
      "source": [
        "Ahora construyamos el intervalo de confiaza. Como tenemos muchos valores simulados para $N$ podemos utilizar el teorema del límte central para calcular el intervalo de confianza de $90\\%$, para ello debemos calcular la media de los datos y su deviación estandar además de saber que el valor adecuado de $z_{\\alpha/2}$ para un intervalo de confianza de $90\\%$ es $z_{.1/2}=z_{.05}=1.645$  "
      ],
      "metadata": {
        "id": "GnUDIRItPJJu"
      }
    },
    {
      "cell_type": "code",
      "source": [
        "media=np.mean(m_valores)\n",
        "dev_std=np.std(m_valores)\n",
        "s=dev_std/(sqrt(N))\n",
        "z=1.645\n",
        "\n",
        "print(\"INTERVALO DE CONFIANZA del 90% \\nLim inf: \",media-z*s,\"\\nLim sup: \",media+z*s )"
      ],
      "metadata": {
        "colab": {
          "base_uri": "https://localhost:8080/"
        },
        "id": "PnAbNdU6Ir3u",
        "outputId": "c1f532ab-63b2-4b30-cfdc-06064594c857"
      },
      "execution_count": null,
      "outputs": [
        {
          "output_type": "stream",
          "name": "stdout",
          "text": [
            "INTERVALO DE CONFIANZA del 90% \n",
            "Lim inf:  2.711614156703781 \n",
            "Lim sup:  2.720705843296219\n"
          ]
        }
      ]
    },
    {
      "cell_type": "markdown",
      "source": [
        "**4. Estime por simulación el valor de las siguientes integrales**\n",
        "\n",
        "a)$\\int_0^1 \\sqrt{1+x^3}dx$<br>\n",
        "b)$\\int_3^5 e^{-x^2}dx$<br>\n",
        "c)$\\int_{0.5}^1 \\frac{sin(x)}{x}dx$<br>\n",
        "d)$\\int_0^\\infty e^{-x^2}dx$<br>\n",
        "e)$\\int_{-\\infty}^\\infty e^{-x^2}dx$<br>\n",
        "f)$\\int_2^\\infty e^{-x^2}dx$<br>"
      ],
      "metadata": {
        "id": "G8ktFUBsmAnO"
      }
    },
    {
      "cell_type": "code",
      "source": [
        "from math import exp, sqrt, sin, pi\n",
        "from random import random\n",
        "import numpy as np\n",
        "\n",
        "N=10**5\n",
        "sumas=[0 for i in range(6)]\n",
        "\n",
        "for i in range(N):\n",
        "  u=random()\n",
        "  sumas[0]+=sqrt(1+u**3)\n",
        "  sumas[1]+=(5-3)*exp(-(3+(5-3)*u)**2)\n",
        "  sumas[2]+=(1-.5)*(sin(.5+(1-.5)*u))/(.5+(1-.5)*u)\n",
        "  sumas[3]+=exp(-(1/u-1)**2)/(u**2)\n",
        "  sumas[5]+=exp(-(1/u-1)**2)/(u**2)-2*exp(-(2*u)**2)\n",
        "\n",
        "sumas=np.array(sumas)\n",
        "print(sumas/N)\n"
      ],
      "metadata": {
        "colab": {
          "base_uri": "https://localhost:8080/"
        },
        "id": "iFL4vPKqXXXx",
        "outputId": "893cf266-2375-4061-8f74-cc0e2f8ebf96"
      },
      "execution_count": null,
      "outputs": [
        {
          "output_type": "stream",
          "name": "stdout",
          "text": [
            "[1.11120542e+00 1.94756640e-05 4.52998718e-01 8.85934445e-01\n",
            " 0.00000000e+00 3.16582211e-03]\n"
          ]
        }
      ]
    },
    {
      "cell_type": "markdown",
      "source": [
        "**5. X sigue una distribución geométrica con parámetro .2. Estime por simulación el valor esperado de $\\sqrt{1+x}$. De un intervalo de confianza del $95\\%$ para la estimación de $E(\\sqrt{1+x})$**\n",
        "\n",
        "Sabemos que podemos simular valores para uns distribución geométrica con parámetro $p$ con la siguiente fórmula \n",
        "\n",
        "$k=Int\\left(\\frac{ln(1-u)}{ln(1-p)}\\right)+1$"
      ],
      "metadata": {
        "id": "CplHZ7ZqWwBE"
      }
    },
    {
      "cell_type": "code",
      "source": [
        "from random import random \n",
        "from math import sqrt, log\n",
        "import numpy as np\n",
        "\n",
        "N=10**6\n",
        "valores=[]\n",
        "p=.2\n",
        "\n",
        "for i in range(N):\n",
        "  u=random()\n",
        "  x=int(log(1-u)/log(1-p))+1\n",
        "  valores.append(sqrt(1+x))\n",
        "\n",
        "print(\"el valor simulado es: \",np.mean(valores))"
      ],
      "metadata": {
        "colab": {
          "base_uri": "https://localhost:8080/"
        },
        "id": "8Fn4DcoDzBIy",
        "outputId": "bc471001-d462-4a71-f211-3c88d6a73ad6"
      },
      "execution_count": null,
      "outputs": [
        {
          "output_type": "stream",
          "name": "stdout",
          "text": [
            "el valor simulado es:  2.3146206493610535\n"
          ]
        }
      ]
    },
    {
      "cell_type": "markdown",
      "source": [
        "Para el intervalo de confianza del 95% tenemos que $z_{\\alpha/2}=z_{.025}=1.96$ entonces podemos calcular el intervalo como sigue "
      ],
      "metadata": {
        "id": "nwtKsFg3nQeR"
      }
    },
    {
      "cell_type": "code",
      "source": [
        "media=np.mean(valores)\n",
        "dev_std=np.std(valores)\n",
        "s=dev_std/(sqrt(N))\n",
        "z=1.96\n",
        "\n",
        "print(\"INTERVALO DE CONFIANZA del 90% \\nLim inf: \",media-z*s,\"\\nLim sup: \",media+z*s )"
      ],
      "metadata": {
        "colab": {
          "base_uri": "https://localhost:8080/"
        },
        "id": "QUopuaqmgWQA",
        "outputId": "8d5ea77c-6474-413f-e679-9142776a586c"
      },
      "execution_count": null,
      "outputs": [
        {
          "output_type": "stream",
          "name": "stdout",
          "text": [
            "INTERVALO DE CONFIANZA del 90% \n",
            "Lim inf:  2.3130471144741582 \n",
            "Lim sup:  2.3161941842479488\n"
          ]
        }
      ]
    },
    {
      "cell_type": "markdown",
      "source": [
        "**6. $X$ sigue la siguiente función de densidad de probabilidad**\n",
        "\n",
        "\\begin{array}{|c|c|c|c|} \\hline\n",
        "X&1&2&3&4\\\\ \\hline\n",
        "P(X=x)&.1&.1&.3&.5 \\\\ \\hline\n",
        "\\end{array}\n",
        "\n",
        "**Estime por simulación el valor esperado de $\\frac{1}{1+x^2}$**\n",
        "\n",
        "Tenemos que la función de distribución de $X$ es \n",
        "\\begin{array}{|c|c|c|c|} \\hline\n",
        "X&1&2&3&4\\\\ \\hline\n",
        "P(X\\leq x)&.1&.2&.5&1 \\\\ \\hline\n",
        "\\end{array}\n",
        "entonces con estos valores tenemos listo el criterio para generar los valores aleatorios de $X$ donde generaremos un valor aleaotrio entre 0 y 1 e identificaremos entre que valores de $F(x)$ para entonces calcular el valor esperado requerido \n"
      ],
      "metadata": {
        "id": "Ljr450vb2fuJ"
      }
    },
    {
      "cell_type": "code",
      "source": [
        "from random import random\n",
        "\n",
        "def generador_X(u):\n",
        "  if u<.1:\n",
        "    return 1\n",
        "  elif u<.2:\n",
        "    return 2\n",
        "  elif u<.5:\n",
        "    return 3\n",
        "  else:\n",
        "    return 4\n",
        "\n",
        "N=10**5\n",
        "sum=0\n",
        "\n",
        "for i in range(N):\n",
        "  u=random()\n",
        "  x=generador_X(u)\n",
        "  sum+=1/(1+x**2)\n",
        "\n",
        "print(\"El valor simulado es: \",sum/N)"
      ],
      "metadata": {
        "colab": {
          "base_uri": "https://localhost:8080/"
        },
        "id": "MdlmorU8ptje",
        "outputId": "41002889-0e37-4fe2-970e-e1c23bfc5574"
      },
      "execution_count": null,
      "outputs": [
        {
          "output_type": "stream",
          "name": "stdout",
          "text": [
            "El valor simulado es:  0.12899664705905073\n"
          ]
        }
      ]
    },
    {
      "cell_type": "markdown",
      "source": [
        "**7. La variable aleatoria $X$ sigue la siguiente función de densidad de probabilidad:**\n",
        "\n",
        "$f_x(k)=\\frac{2}{3^k} \\hspace{1 cm} k=1,2,3,...$\n",
        "\n",
        "**Estime por simulación el valor esperado de $X^2$**\n",
        "\n",
        "Notamos enseguida que la distribución se trata de una geométrica con parámetro $p=\\frac{2}{3}$ que sabemos podemos simular sus valores con \n",
        "\n",
        "$k=Int\\left(\\frac{ln(1-u)}{ln(1-p)}\\right)+1$\n",
        "\n",
        "entonces generando valores para $X$ con esta fórmula y después evaluando en $x^2$ N veces sumando cada valor obtenido para despues dividir la suma entre N podemos simular su esperanza "
      ],
      "metadata": {
        "id": "jyk7iO2k8yHp"
      }
    },
    {
      "cell_type": "code",
      "source": [
        "from random import random \n",
        "from math import log \n",
        "\n",
        "N=10**5\n",
        "sum=0\n",
        "p=2/3\n",
        "for i in range(N):\n",
        "  u=random()\n",
        "  x=int(log(1-u)/log(1-p))+1\n",
        "  sum+=x**2\n",
        "\n",
        "print(\"El valor simulado es: \",sum/N)\n"
      ],
      "metadata": {
        "colab": {
          "base_uri": "https://localhost:8080/"
        },
        "id": "5rBAY2gJ5Imm",
        "outputId": "2bed8d82-9fe7-4f4e-94f8-26f035df0f51"
      },
      "execution_count": null,
      "outputs": [
        {
          "output_type": "stream",
          "name": "stdout",
          "text": [
            "El valor simulado es:  3.02513\n"
          ]
        }
      ]
    },
    {
      "cell_type": "markdown",
      "source": [
        "**8. La variable aleatoria $X$ tiene la siguiente función de densidad de probabilidad:**\n",
        "\n",
        "$$ f_X(x)=   \\left\\{\n",
        "\\begin{array}{ll}\n",
        "      \\frac{1}{x ln2} & x \\in [1,2] \\\\\n",
        "      0 & \\text{otro caso} \\\\\n",
        "\\end{array} \n",
        "\\right.  $$\n",
        "**a) Estime por simulación el valor esperado de $\\sqrt{1+x^2}$**\n",
        "\n",
        "**b) Estime por simulación la probabilidad de que $1.3<X<1.8$**\n",
        "\n",
        "Tenemos que la función de distribución de $X$ es\n",
        "\n",
        "$F_X(x)=\\int^x_1 \\frac{1}{t ln(2)} dt=\\frac{ln x}{ln 2}$\n",
        "\n",
        "y su inversa es \n",
        "\n",
        "$F^{-1}_X(x)=2^x$\n",
        "\n",
        "entonces si generamos valores unfiormemente distribuidos en [0,1] y los evaluamos en $F^{-1}_x$ y posteriormente este resultado se evalua en $\\sqrt{1+x^2}$ entonces estaremos simulando valores para esta última función\n",
        "\n"
      ],
      "metadata": {
        "id": "EhT2E1nlAMFA"
      }
    },
    {
      "cell_type": "code",
      "source": [
        "from random import random \n",
        "from math import log,sqrt\n",
        "\n",
        "N=10**5\n",
        "sum=0\n",
        "cont=0\n",
        "ln2=log(2)\n",
        "for i in range(N):\n",
        "  u=random()\n",
        "  Finv=2**u\n",
        "  sum+=sqrt(1+Finv**2)\n",
        "\n",
        "  x=Finv\n",
        "  if  1.3<x and x<1.8:\n",
        "    cont+=1\n",
        "\n",
        "print(\"a) El valor simulado es: \",sum/N)\n",
        "print(\"b) \", cont/N)"
      ],
      "metadata": {
        "colab": {
          "base_uri": "https://localhost:8080/"
        },
        "id": "R46Vpxy3_XS5",
        "outputId": "2cda4879-3ea8-4661-91d9-e156bfbc2122"
      },
      "execution_count": null,
      "outputs": [
        {
          "output_type": "stream",
          "name": "stdout",
          "text": [
            "a) El valor simulado es:  1.7630828774282579\n",
            "b)  0.46921\n"
          ]
        }
      ]
    },
    {
      "cell_type": "markdown",
      "source": [
        "**9. Sean $U_1,U_2,...,U_10$ varaibles aleatorias independientes y ubiformemente distribuidas en [0,1]. Estime por simulación el valor esperado de la variable aleatoria $M=max\\{U_1,U_2,...,U_1\\}$**\n",
        "\n",
        "Para simular valores para la variable $M$ tendremos que generar 10 valores aleattorios uniformemente en [0,1] e identificar el máximo de ellos"
      ],
      "metadata": {
        "id": "cyw19qbKFBmm"
      }
    },
    {
      "cell_type": "code",
      "source": [
        "from random import random\n",
        "\n",
        "N=10**5\n",
        "sum=0\n",
        "for i in range(N):\n",
        "  sum+=max([random() for i in range(10)])\n",
        "\n",
        "print(\"El valor simulado es: \",sum/N)"
      ],
      "metadata": {
        "colab": {
          "base_uri": "https://localhost:8080/"
        },
        "id": "MgCrRubUCT07",
        "outputId": "45b1e02f-b97f-4849-bd6f-62b5b6425d11"
      },
      "execution_count": null,
      "outputs": [
        {
          "output_type": "stream",
          "name": "stdout",
          "text": [
            "El valor simulado es:  0.90898230968814\n"
          ]
        }
      ]
    },
    {
      "cell_type": "markdown",
      "source": [
        "**10. Sean $X_1,...,X_5$ variables aleatorias con la siguiente función de densidad de probabilidad**\n",
        "\n",
        "$$ f_X(x)=   \\left\\{\n",
        "\\begin{array}{ll}\n",
        "      2x & x \\in [0,1] \\\\\n",
        "      0 & \\text{otro caso} \\\\\n",
        "\\end{array} \n",
        "\\right.  $$\n",
        "\n",
        "**Estime por simulación del valor esperado de $X_1^2+\\cdots +X_5^2$**\n",
        "\n",
        "Tenemos que la función de distribución de $X$ es\n",
        "\n",
        "$F_X(x)=\\int^x_0 2t dt=x^2$\n",
        "\n",
        "y su inversa es \n",
        "\n",
        "$F^{-1}_X(x)=\\sqrt{x} \\hspace{1 cm} x\\in[0,1]$\n",
        "\n",
        "\n",
        "entonces si generamos valores unfiormemente distribuidos en [0,1] y los evaluamos en $F^{-1}_x$ y posteriormente este resultado se evalua en g(x)=$x^2$ entonces estaremos simulando valores para la variable aleatoria $X^2$, esto es,\n",
        "\n",
        "$g(F^{-1}_X(u))=g(\\sqrt{u})=(\\sqrt{u})^2=u$\n",
        "\n",
        "por lo tanto $X^2$ esta uniformemente distribuida en [0,1], entonces para simular valores para $X_1^2+\\cdots +X_5^2$ debemos generar 5 valores para $U$ y sumarlos"
      ],
      "metadata": {
        "id": "AVajaxsNPTlY"
      }
    },
    {
      "cell_type": "code",
      "source": [
        "#eliminamos la variable que teniamos sobreescrita en e nombre de la función sum que vamos a ocupar\n",
        "#del sum \n",
        "\n",
        "from random import random\n",
        "from math import sqrt \n",
        "\n",
        "N=10**5\n",
        "sum_total=0\n",
        "for i in range(N):\n",
        "  sum_parcial=sum([random() for i in range(5)])\n",
        "  sum_total+=sum_parcial\n",
        "\n",
        "print(\"El valor simulado es: \",sum_total/N)"
      ],
      "metadata": {
        "colab": {
          "base_uri": "https://localhost:8080/"
        },
        "id": "pQ52GvxcJ1su",
        "outputId": "417afc10-3f24-48b2-9714-37c0e7950d2f"
      },
      "execution_count": null,
      "outputs": [
        {
          "output_type": "stream",
          "name": "stdout",
          "text": [
            "El valor simulado es:  2.498785543668569\n"
          ]
        }
      ]
    },
    {
      "cell_type": "code",
      "source": [],
      "metadata": {
        "id": "1fhzf7L4SVO2"
      },
      "execution_count": null,
      "outputs": []
    }
  ]
}